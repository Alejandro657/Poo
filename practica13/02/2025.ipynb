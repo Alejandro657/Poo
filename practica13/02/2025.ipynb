{
  "nbformat": 4,
  "nbformat_minor": 0,
  "metadata": {
    "colab": {
      "provenance": [],
      "authorship_tag": "ABX9TyOafYA2kZGTZyg9/LUVdatu",
      "include_colab_link": true
    },
    "kernelspec": {
      "name": "python3",
      "display_name": "Python 3"
    },
    "language_info": {
      "name": "python"
    }
  },
  "cells": [
    {
      "cell_type": "markdown",
      "metadata": {
        "id": "view-in-github",
        "colab_type": "text"
      },
      "source": [
        "<a href=\"https://colab.research.google.com/github/Alejandro657/Poo/blob/main/practica13/02/2025.ipynb\" target=\"_parent\"><img src=\"https://colab.research.google.com/assets/colab-badge.svg\" alt=\"Open In Colab\"/></a>"
      ]
    },
    {
      "cell_type": "code",
      "execution_count": 4,
      "metadata": {
        "colab": {
          "base_uri": "https://localhost:8080/"
        },
        "id": "KPi-6NOs6r_w",
        "outputId": "29153a65-9209-4e53-82af-35eab8fb69e9"
      },
      "outputs": [
        {
          "output_type": "stream",
          "name": "stdout",
          "text": [
            "dame el primer valor6\n",
            "dame el segundo valor7\n",
            "la suma de los valores:  13\n"
          ]
        }
      ],
      "source": [
        "class Operaciones():\n",
        "  def __init__(self,a,b):\n",
        "    self.a=a\n",
        "    self.b=b\n",
        "  def suma(self):\n",
        "    self.res=self.a+self.b\n",
        "    return(self.res)\n",
        "v1=int(input(\"dame el primer valor\"))\n",
        "v2=int(input(\"dame el segundo valor\"))\n",
        "obj=Operaciones(v1,v2)\n",
        "r=obj.suma()\n",
        "print(\"la suma de los valores: \",r)\n"
      ]
    }
  ]
}