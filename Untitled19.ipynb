{
  "nbformat": 4,
  "nbformat_minor": 0,
  "metadata": {
    "colab": {
      "provenance": [],
      "authorship_tag": "ABX9TyPW+NEaWkh9B3rtAfVGFIyi",
      "include_colab_link": true
    },
    "kernelspec": {
      "name": "python3",
      "display_name": "Python 3"
    },
    "language_info": {
      "name": "python"
    }
  },
  "cells": [
    {
      "cell_type": "markdown",
      "metadata": {
        "id": "view-in-github",
        "colab_type": "text"
      },
      "source": [
        "<a href=\"https://colab.research.google.com/github/Alejandro657/Poo/blob/main/Untitled19.ipynb\" target=\"_parent\"><img src=\"https://colab.research.google.com/assets/colab-badge.svg\" alt=\"Open In Colab\"/></a>"
      ]
    },
    {
      "cell_type": "code",
      "execution_count": 6,
      "metadata": {
        "colab": {
          "base_uri": "https://localhost:8080/"
        },
        "id": "uZlqPJKt7bh7",
        "outputId": "544c1718-5dd5-4a6a-da20-5f58c5abbb59"
      },
      "outputs": [
        {
          "output_type": "stream",
          "name": "stdout",
          "text": [
            "Ingrese el numero de control: 24590505\n",
            "Ingrese el nombre del alumno: pepe\n",
            "Ingrese la calificacion42\n",
            "Desea ingresar otro alumno? s/n: s\n",
            "Ingrese el numero de control: 24590607\n",
            "Ingrese el nombre del alumno: juan\n",
            "Ingrese la calificacion78\n",
            "Desea ingresar otro alumno? s/n: n\n",
            "[]\n",
            "[[24590505, 'pepe', 42], [24590607, 'juan', 78]]\n"
          ]
        }
      ],
      "source": [
        "n=[]\n",
        "alumnos=[]\n",
        "op=\"s\"\n",
        "while op==\"s\" or op==\"s\":\n",
        "  for i in range(1,4):\n",
        "    if i == 1:\n",
        "      n.append(int(input(\"Ingrese el numero de control: \")))\n",
        "    elif i == 2:\n",
        "      n.append(input(\"Ingrese el nombre del alumno: \"))\n",
        "    else:\n",
        "      n.append(int(input(\"Ingrese la calificacion\")))\n",
        "  alumnos.append(n)\n",
        "  n=[]\n",
        "  op=input(\"Desea ingresar otro alumno? s/n: \")\n",
        "\n",
        "\n",
        "\n",
        "\n",
        "\n",
        "\n",
        "\n",
        "\n",
        "#principal\n",
        "\n",
        "print(n)\n",
        "print(alumnos)\n",
        ""
      ]
    },
    {
      "cell_type": "code",
      "source": [
        "class AlumnosP:\n",
        "  def __init__(self):\n",
        "    r=0\n",
        "    self.alumnos=[]\n",
        "  def datos(self):\n",
        "      n=[]\n",
        "      n.append(int(input(\"Ingrese el numero de control: \")))\n",
        "      n.append(input(\"Ingrese el nombre del alumno: \"))\n",
        "      n.append(int(input(\"Ingrese la calificacion: \")))\n",
        "      return n\n",
        "\n",
        "  def AgregaAlumnos(self,n):\n",
        "    self.alumnos.append(n)\n",
        "    return(self.alumnos)\n",
        "  def CapturaAlumnos(self):\n",
        "    op=\"s\"\n",
        "    while op==\"s\" or op==\"S\":\n",
        "      n=self.datos()\n",
        "      self.AgregaAlumnos(n)\n",
        "      op=input(\"Desea otro alumno? s/n: \")\n",
        "  def imprime(self):\n",
        "        print(self.alumnos)\n",
        "\n",
        "obj=AlumnosP()\n",
        "obj.CapturaAlumnos()\n",
        "obj.imprime()\n"
      ],
      "metadata": {
        "colab": {
          "base_uri": "https://localhost:8080/"
        },
        "id": "3SkLTl3FAY1i",
        "outputId": "ecd7d6e8-4320-47d6-b823-7783c70829a1"
      },
      "execution_count": 7,
      "outputs": [
        {
          "output_type": "stream",
          "name": "stdout",
          "text": [
            "Ingrese el numero de control: 24590505\n",
            "Ingrese el nombre del alumno: luis\n",
            "Ingrese la calificacion: 80\n",
            "Desea otro alumno? s/n: s\n",
            "Ingrese el numero de control: 23480606\n",
            "Ingrese el nombre del alumno: pepe\n",
            "Ingrese la calificacion: 34\n",
            "Desea otro alumno? s/n: n\n",
            "[[24590505, 'luis', 80], [23480606, 'pepe', 34]]\n"
          ]
        }
      ]
    },
    {
      "cell_type": "code",
      "source": [],
      "metadata": {
        "id": "WV84U_1TFloD"
      },
      "execution_count": null,
      "outputs": []
    }
  ]
}