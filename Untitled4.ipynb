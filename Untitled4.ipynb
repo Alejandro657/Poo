{
  "nbformat": 4,
  "nbformat_minor": 0,
  "metadata": {
    "colab": {
      "provenance": [],
      "authorship_tag": "ABX9TyMpEGnWAxmIUiGg+sr63z+0",
      "include_colab_link": true
    },
    "kernelspec": {
      "name": "python3",
      "display_name": "Python 3"
    },
    "language_info": {
      "name": "python"
    }
  },
  "cells": [
    {
      "cell_type": "markdown",
      "metadata": {
        "id": "view-in-github",
        "colab_type": "text"
      },
      "source": [
        "<a href=\"https://colab.research.google.com/github/Alejandro657/Poo/blob/main/Untitled4.ipynb\" target=\"_parent\"><img src=\"https://colab.research.google.com/assets/colab-badge.svg\" alt=\"Open In Colab\"/></a>"
      ]
    },
    {
      "cell_type": "code",
      "execution_count": null,
      "metadata": {
        "id": "pSSAn7204RV4"
      },
      "outputs": [],
      "source": [
        "class convivio:\n",
        "  def.__init__(self):\n",
        "    self.tInvitados=0\n",
        "    self.carbon=0\n",
        "    self.carne=0\n",
        "    self.refresco=0\n",
        "    self.h=0\n",
        "    self.m=0\n",
        "    self.complementos=25\n",
        "    self.coop=0\n",
        "    self.cosComple=0\n",
        "    self.costosA=160\n",
        "    self.costosB=196\n",
        "    self.costosT=25\n",
        "    self.costosCh=25\n",
        "    self.costosRef=22\n",
        "    self.costosPol=50\n",
        "    self.costosSal=30\n",
        "  def invitados(self):\n",
        "    self.h=int(input(\"Cantidad Hombres\"))\n",
        "    self.m=int(input(\"Cantidad Mujeres\"))\n",
        "    self.tInvitados=self.h+self.m\n",
        "  def cantCarne(self):\n",
        "    self.carne=(self.h*.8)+(self.m*.5)\n",
        "    self.costosA=self.carne*.30\n",
        "    self.CostosB=self.carne*.30\n",
        "    self.costosCh=self.carne*.15\n",
        "    self.costosPol=self.carne*.15\n",
        "    self.costosSal=self.carne*.10\n",
        "  def cantComp(self):\n",
        "    n=random.int(1,self+Invitados)\n",
        "    self cosComple=(n*self.complementos)*n\n"
      ]
    }
  ]
}