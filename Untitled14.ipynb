{
  "nbformat": 4,
  "nbformat_minor": 0,
  "metadata": {
    "colab": {
      "provenance": [],
      "authorship_tag": "ABX9TyNS6Y1Rh9OIdip/8zWXn785",
      "include_colab_link": true
    },
    "kernelspec": {
      "name": "python3",
      "display_name": "Python 3"
    },
    "language_info": {
      "name": "python"
    }
  },
  "cells": [
    {
      "cell_type": "markdown",
      "metadata": {
        "id": "view-in-github",
        "colab_type": "text"
      },
      "source": [
        "<a href=\"https://colab.research.google.com/github/Alejandro657/Poo/blob/main/Untitled14.ipynb\" target=\"_parent\"><img src=\"https://colab.research.google.com/assets/colab-badge.svg\" alt=\"Open In Colab\"/></a>"
      ]
    },
    {
      "cell_type": "code",
      "execution_count": 2,
      "metadata": {
        "colab": {
          "base_uri": "https://localhost:8080/"
        },
        "id": "MvYPea7yJ0G-",
        "outputId": "4d0046ef-de02-49ba-f737-f601564b1618"
      },
      "outputs": [
        {
          "output_type": "stream",
          "name": "stdout",
          "text": [
            "Ingrese la cantidad de alumnos: 4\n",
            "Ingrese el nombre del alumno 1: juan\n",
            "Ingrese la edad del alumno 1: 17\n",
            "Ingrese el género del alumno 1 (Hombre/Mujer): hombre\n",
            "Ingrese el nombre del alumno 2: juanita\n",
            "Ingrese la edad del alumno 2: 17\n",
            "Ingrese el género del alumno 2 (Hombre/Mujer): mujer\n",
            "Ingrese el nombre del alumno 3: pedro\n",
            "Ingrese la edad del alumno 3: 17\n",
            "Ingrese el género del alumno 3 (Hombre/Mujer): hombre\n",
            "Ingrese el nombre del alumno 4: paula\n",
            "Ingrese la edad del alumno 4: 17\n",
            "Ingrese el género del alumno 4 (Hombre/Mujer): mujer\n",
            "Cantidad de alumnos: 4\n",
            "Cantidad de hombres: 2\n",
            "Cantidad de mujeres: 2\n",
            "Promedio de edad de hombres: 17.0\n",
            "Promedio de edad de mujeres: 17.0\n"
          ]
        }
      ],
      "source": [
        "class Alumno:\n",
        "    def __init__(self, nombre, edad, genero):\n",
        "        self.nombre = nombre\n",
        "        self.edad = edad\n",
        "        self.genero = genero\n",
        "\n",
        "\n",
        "class SistemaEscolar:\n",
        "    def __init__(self):\n",
        "        self.alumnos = []\n",
        "\n",
        "    def agregar_alumno(self, nombre, edad, genero):\n",
        "        self.alumnos.append(Alumno(nombre, edad, genero))\n",
        "\n",
        "    def calcular_promedio_edad(self, genero):\n",
        "        edades = [alumno.edad for alumno in self.alumnos if alumno.genero.lower() == genero.lower()]\n",
        "        if not edades:\n",
        "            return 0\n",
        "        return sum(edades) / len(edades)\n",
        "\n",
        "    def contar_alumnos(self):\n",
        "        return len(self.alumnos)\n",
        "\n",
        "    def contar_hombres(self):\n",
        "        return sum(1 for alumno in self.alumnos if alumno.genero.lower() == \"hombre\")\n",
        "\n",
        "    def contar_mujeres(self):\n",
        "        return sum(1 for alumno in self.alumnos if alumno.genero.lower() == \"mujer\")\n",
        "\n",
        "    def mostrar_estadisticas(self):\n",
        "        print(f\"Cantidad de alumnos: {self.contar_alumnos()}\")\n",
        "        print(f\"Cantidad de hombres: {self.contar_hombres()}\")\n",
        "        print(f\"Cantidad de mujeres: {self.contar_mujeres()}\")\n",
        "        print(f\"Promedio de edad de hombres: {self.calcular_promedio_edad('hombre')}\")\n",
        "        print(f\"Promedio de edad de mujeres: {self.calcular_promedio_edad('mujer')}\")\n",
        "\n",
        "\n",
        "def main():\n",
        "    sistema = SistemaEscolar()\n",
        "\n",
        "    cantidad_alumnos = int(input(\"Ingrese la cantidad de alumnos: \"))\n",
        "    for i in range(cantidad_alumnos):\n",
        "        nombre = input(f\"Ingrese el nombre del alumno {i + 1}: \")\n",
        "        edad = int(input(f\"Ingrese la edad del alumno {i + 1}: \"))\n",
        "        genero = input(f\"Ingrese el género del alumno {i + 1} (Hombre/Mujer): \")\n",
        "        sistema.agregar_alumno(nombre, edad, genero)\n",
        "\n",
        "    sistema.mostrar_estadisticas()\n",
        "\n",
        "\n",
        "if __name__ == \"__main__\":\n",
        "    main()\n",
        ""
      ]
    }
  ]
}