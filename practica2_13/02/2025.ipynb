{
  "nbformat": 4,
  "nbformat_minor": 0,
  "metadata": {
    "colab": {
      "provenance": [],
      "authorship_tag": "ABX9TyOVQlvyNy4MMVppZHl5MUo6",
      "include_colab_link": true
    },
    "kernelspec": {
      "name": "python3",
      "display_name": "Python 3"
    },
    "language_info": {
      "name": "python"
    }
  },
  "cells": [
    {
      "cell_type": "markdown",
      "metadata": {
        "id": "view-in-github",
        "colab_type": "text"
      },
      "source": [
        "<a href=\"https://colab.research.google.com/github/Alejandro657/Poo/blob/main/practica2_13/02/2025.ipynb\" target=\"_parent\"><img src=\"https://colab.research.google.com/assets/colab-badge.svg\" alt=\"Open In Colab\"/></a>"
      ]
    },
    {
      "cell_type": "code",
      "execution_count": null,
      "metadata": {
        "id": "2KeWz0CcDjL1"
      },
      "outputs": [],
      "source": [
        "class Figuras:\n",
        "  def__init__(self):\n",
        "    self.a=0\n",
        "    self.b=0\n",
        "    self.c=0\n",
        "  def.op(self):\n",
        "    print(\"Que opcion quieres:\")\n",
        "    print(\"1.Circulo...\")\n",
        "    print(\"2.Trapecio...\")\n",
        "    print(\"3.Rectangulo...\")\n",
        "    r=int(input(\"opcion:\"))\n",
        "    return(r)\n",
        "  def Circulo(r):\n",
        "    area=3.1415*r**2\n",
        "    return(area)\n",
        "  def Trapecio(r):\n",
        "    area=((b1+b2)*h)/2\n",
        "    return(area)\n",
        "  def Rectangulo(r):\n",
        "    area=b*h\n",
        "    return(area)\n",
        "    obj=Figuras()\n",
        "    s=obj.op()\n",
        "    ifs==1:\n",
        "      obj.a=float(input(\"Escribe el radio\":))\n",
        "      resultado=obj.Circulo(obj.a)\n",
        "      print(\"El area es de:\", resultado)\n",
        "    elif(s==2):\n",
        "      obj.a=float(input(\"Escribe la base:\"))\n",
        "      obj.b=float(input(\"Escribe la base menor:\"))\n",
        "      obj.c=float(input(\"Escribe h:\"))\n",
        "      resultado=obj.Trapecio(obj.a, obj.b, obj.c)\n",
        "      print(\"El area es\":, resultado)\n",
        "    elif(s==3):\n",
        "      obj.a=float(input(\"base:\"))\n",
        "      obj.b=float(input(\"altura:\"))\n",
        "      resultado=(obj.a*obj.b)\n",
        "      print(\"areat.es de:\", resultado)\n",
        "\n"
      ]
    }
  ]
}