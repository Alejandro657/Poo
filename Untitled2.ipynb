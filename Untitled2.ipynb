{
  "nbformat": 4,
  "nbformat_minor": 0,
  "metadata": {
    "colab": {
      "provenance": [],
      "authorship_tag": "ABX9TyN78pPbj37qCPvZQlFqPxJr",
      "include_colab_link": true
    },
    "kernelspec": {
      "name": "python3",
      "display_name": "Python 3"
    },
    "language_info": {
      "name": "python"
    }
  },
  "cells": [
    {
      "cell_type": "markdown",
      "metadata": {
        "id": "view-in-github",
        "colab_type": "text"
      },
      "source": [
        "<a href=\"https://colab.research.google.com/github/Alejandro657/Poo/blob/main/Untitled2.ipynb\" target=\"_parent\"><img src=\"https://colab.research.google.com/assets/colab-badge.svg\" alt=\"Open In Colab\"/></a>"
      ]
    },
    {
      "cell_type": "code",
      "execution_count": null,
      "metadata": {
        "id": "1wkZr9sF-w_z"
      },
      "outputs": [],
      "source": []
    },
    {
      "cell_type": "markdown",
      "source": [
        "Programa Suma Hecho por: Alejandro Leonides Flores 06/02/025"
      ],
      "metadata": {
        "id": "5BDef-nO-2Gq"
      }
    },
    {
      "cell_type": "code",
      "source": [
        "class Operaciones:\n",
        "  def _init_(self, a, b, c):\n",
        "    self.valor1=0\n",
        "    self.valor2=0\n",
        "    self.resultado=0\n",
        "    self.msg=\"\"\n",
        "    def suma(self):\n",
        "      def suma(self):\n",
        "        self.msg=\"La suma de\" , self.valor1 , \"+\" , self.valor2 , \"=\"\n",
        "        self.resultado=self.valor1+self.valor2\n",
        "\n",
        "\n",
        "\n",
        "  def calcular(self):\n",
        "    suma=self.a+self.b+self.c\n",
        "    resta=self.a-self.b-self.c\n",
        "    multiplicacion=self.a*self.b*self.c\n",
        "    division=self.a/self.b/self.c\n",
        "    def.imprimir(self):\n",
        "\n",
        "\n",
        "obj=Operaciones()\n",
        "obj.valor1=int(input(\"Ingrese el primer valor:\"))\n",
        "obj.valor2=int(input(\"Ingrse el segundo valor:\"))\n",
        "obj.suma()\n",
        "obj.imprimir()"
      ],
      "metadata": {
        "colab": {
          "base_uri": "https://localhost:8080/",
          "height": 106
        },
        "id": "6MnPpvvp_Bqb",
        "outputId": "4bf9609e-d619-4be0-b40b-feff170bb185"
      },
      "execution_count": null,
      "outputs": [
        {
          "output_type": "error",
          "ename": "IndentationError",
          "evalue": "expected an indented block after function definition on line 8 (<ipython-input-7-145610dbe5cf>, line 9)",
          "traceback": [
            "\u001b[0;36m  File \u001b[0;32m\"<ipython-input-7-145610dbe5cf>\"\u001b[0;36m, line \u001b[0;32m9\u001b[0m\n\u001b[0;31m    print(\"Respuesta\",self.resultado)\u001b[0m\n\u001b[0m    ^\u001b[0m\n\u001b[0;31mIndentationError\u001b[0m\u001b[0;31m:\u001b[0m expected an indented block after function definition on line 8\n"
          ]
        }
      ]
    }
  ]
}