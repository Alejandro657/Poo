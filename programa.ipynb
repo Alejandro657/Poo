{
  "nbformat": 4,
  "nbformat_minor": 0,
  "metadata": {
    "colab": {
      "provenance": [],
      "authorship_tag": "ABX9TyNqZudiOyaP2F6IswmxKZvP",
      "include_colab_link": true
    },
    "kernelspec": {
      "name": "python3",
      "display_name": "Python 3"
    },
    "language_info": {
      "name": "python"
    }
  },
  "cells": [
    {
      "cell_type": "markdown",
      "metadata": {
        "id": "view-in-github",
        "colab_type": "text"
      },
      "source": [
        "<a href=\"https://colab.research.google.com/github/Alejandro657/Poo/blob/main/programa.ipynb\" target=\"_parent\"><img src=\"https://colab.research.google.com/assets/colab-badge.svg\" alt=\"Open In Colab\"/></a>"
      ]
    },
    {
      "cell_type": "code",
      "execution_count": null,
      "metadata": {
        "id": "XdOe_Xz83AG0"
      },
      "outputs": [],
      "source": []
    },
    {
      "cell_type": "markdown",
      "source": [],
      "metadata": {
        "id": "rf9unVXg3Mhu"
      }
    },
    {
      "cell_type": "markdown",
      "source": [
        "Programa Hecho por Alejandro Leonides Flores 06/02/2025"
      ],
      "metadata": {
        "id": "p8U-6rL07OnH"
      }
    },
    {
      "cell_type": "code",
      "source": [
        "class saludo:\n",
        "  def __init__(self):\n",
        "    self.nombre=\"Alejandro\"\n",
        "\n",
        "  def saludos(self):\n",
        "    print(\"hola\",self.nombre)\n",
        "\n",
        "\n",
        "\n",
        ""
      ],
      "metadata": {
        "id": "xC6eG_vS3N4s"
      },
      "execution_count": 11,
      "outputs": []
    },
    {
      "cell_type": "code",
      "source": [
        "x=saludo()\n",
        "x.saludos()"
      ],
      "metadata": {
        "colab": {
          "base_uri": "https://localhost:8080/"
        },
        "id": "rgwaWLN47oUv",
        "outputId": "778863f5-f2ac-4ff6-a7ab-3c75ffdeafa7"
      },
      "execution_count": 13,
      "outputs": [
        {
          "output_type": "stream",
          "name": "stdout",
          "text": [
            "hola Alejandro\n"
          ]
        }
      ]
    }
  ]
}